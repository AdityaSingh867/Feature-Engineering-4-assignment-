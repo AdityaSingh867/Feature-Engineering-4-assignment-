{
 "cells": [
  {
   "cell_type": "markdown",
   "id": "40f979d5-7627-4dc9-a6eb-1ce1c2122121",
   "metadata": {},
   "source": [
    "Q1. What is data encoding? How is it useful in data science?"
   ]
  },
  {
   "cell_type": "markdown",
   "id": "03080336-cea4-41a6-b3e1-a08ec6f093c3",
   "metadata": {},
   "source": [
    "converting a sequence of text characters into binary code"
   ]
  },
  {
   "cell_type": "markdown",
   "id": "9f6df5df-2809-4c90-a5ca-3ccd8e101094",
   "metadata": {},
   "source": [
    "transformation of categorical variables to binary or numerical counterparts"
   ]
  },
  {
   "cell_type": "markdown",
   "id": "03b77057-9581-4de9-8507-7f4dbc6d2aee",
   "metadata": {},
   "source": [
    "Q2. What is nominal encoding? Provide an example of how you would use it in a real-world scenario."
   ]
  },
  {
   "cell_type": "markdown",
   "id": "56ea70c0-9fd7-465f-b4a2-8b3b02ca291f",
   "metadata": {},
   "source": [
    "When we have a feature where variables are just names and there is no order or rank to this variable's feature."
   ]
  },
  {
   "cell_type": "code",
   "execution_count": 1,
   "id": "b9909640-05a0-4ba2-a5dd-860de2a3eb6e",
   "metadata": {},
   "outputs": [],
   "source": [
    "import seaborn as sns"
   ]
  },
  {
   "cell_type": "code",
   "execution_count": 2,
   "id": "2c3a48d5-09d1-443c-bba9-f46fede5d411",
   "metadata": {},
   "outputs": [],
   "source": [
    "df = sns.load_dataset('titanic')"
   ]
  },
  {
   "cell_type": "code",
   "execution_count": 3,
   "id": "fcce6c5f-28e2-4f5a-958e-16f906d8d4ba",
   "metadata": {},
   "outputs": [
    {
     "data": {
      "text/html": [
       "<div>\n",
       "<style scoped>\n",
       "    .dataframe tbody tr th:only-of-type {\n",
       "        vertical-align: middle;\n",
       "    }\n",
       "\n",
       "    .dataframe tbody tr th {\n",
       "        vertical-align: top;\n",
       "    }\n",
       "\n",
       "    .dataframe thead th {\n",
       "        text-align: right;\n",
       "    }\n",
       "</style>\n",
       "<table border=\"1\" class=\"dataframe\">\n",
       "  <thead>\n",
       "    <tr style=\"text-align: right;\">\n",
       "      <th></th>\n",
       "      <th>survived</th>\n",
       "      <th>pclass</th>\n",
       "      <th>sex</th>\n",
       "      <th>age</th>\n",
       "      <th>sibsp</th>\n",
       "      <th>parch</th>\n",
       "      <th>fare</th>\n",
       "      <th>embarked</th>\n",
       "      <th>class</th>\n",
       "      <th>who</th>\n",
       "      <th>adult_male</th>\n",
       "      <th>deck</th>\n",
       "      <th>embark_town</th>\n",
       "      <th>alive</th>\n",
       "      <th>alone</th>\n",
       "    </tr>\n",
       "  </thead>\n",
       "  <tbody>\n",
       "    <tr>\n",
       "      <th>0</th>\n",
       "      <td>0</td>\n",
       "      <td>3</td>\n",
       "      <td>male</td>\n",
       "      <td>22.0</td>\n",
       "      <td>1</td>\n",
       "      <td>0</td>\n",
       "      <td>7.2500</td>\n",
       "      <td>S</td>\n",
       "      <td>Third</td>\n",
       "      <td>man</td>\n",
       "      <td>True</td>\n",
       "      <td>NaN</td>\n",
       "      <td>Southampton</td>\n",
       "      <td>no</td>\n",
       "      <td>False</td>\n",
       "    </tr>\n",
       "    <tr>\n",
       "      <th>1</th>\n",
       "      <td>1</td>\n",
       "      <td>1</td>\n",
       "      <td>female</td>\n",
       "      <td>38.0</td>\n",
       "      <td>1</td>\n",
       "      <td>0</td>\n",
       "      <td>71.2833</td>\n",
       "      <td>C</td>\n",
       "      <td>First</td>\n",
       "      <td>woman</td>\n",
       "      <td>False</td>\n",
       "      <td>C</td>\n",
       "      <td>Cherbourg</td>\n",
       "      <td>yes</td>\n",
       "      <td>False</td>\n",
       "    </tr>\n",
       "    <tr>\n",
       "      <th>2</th>\n",
       "      <td>1</td>\n",
       "      <td>3</td>\n",
       "      <td>female</td>\n",
       "      <td>26.0</td>\n",
       "      <td>0</td>\n",
       "      <td>0</td>\n",
       "      <td>7.9250</td>\n",
       "      <td>S</td>\n",
       "      <td>Third</td>\n",
       "      <td>woman</td>\n",
       "      <td>False</td>\n",
       "      <td>NaN</td>\n",
       "      <td>Southampton</td>\n",
       "      <td>yes</td>\n",
       "      <td>True</td>\n",
       "    </tr>\n",
       "    <tr>\n",
       "      <th>3</th>\n",
       "      <td>1</td>\n",
       "      <td>1</td>\n",
       "      <td>female</td>\n",
       "      <td>35.0</td>\n",
       "      <td>1</td>\n",
       "      <td>0</td>\n",
       "      <td>53.1000</td>\n",
       "      <td>S</td>\n",
       "      <td>First</td>\n",
       "      <td>woman</td>\n",
       "      <td>False</td>\n",
       "      <td>C</td>\n",
       "      <td>Southampton</td>\n",
       "      <td>yes</td>\n",
       "      <td>False</td>\n",
       "    </tr>\n",
       "    <tr>\n",
       "      <th>4</th>\n",
       "      <td>0</td>\n",
       "      <td>3</td>\n",
       "      <td>male</td>\n",
       "      <td>35.0</td>\n",
       "      <td>0</td>\n",
       "      <td>0</td>\n",
       "      <td>8.0500</td>\n",
       "      <td>S</td>\n",
       "      <td>Third</td>\n",
       "      <td>man</td>\n",
       "      <td>True</td>\n",
       "      <td>NaN</td>\n",
       "      <td>Southampton</td>\n",
       "      <td>no</td>\n",
       "      <td>True</td>\n",
       "    </tr>\n",
       "  </tbody>\n",
       "</table>\n",
       "</div>"
      ],
      "text/plain": [
       "   survived  pclass     sex   age  sibsp  parch     fare embarked  class  \\\n",
       "0         0       3    male  22.0      1      0   7.2500        S  Third   \n",
       "1         1       1  female  38.0      1      0  71.2833        C  First   \n",
       "2         1       3  female  26.0      0      0   7.9250        S  Third   \n",
       "3         1       1  female  35.0      1      0  53.1000        S  First   \n",
       "4         0       3    male  35.0      0      0   8.0500        S  Third   \n",
       "\n",
       "     who  adult_male deck  embark_town alive  alone  \n",
       "0    man        True  NaN  Southampton    no  False  \n",
       "1  woman       False    C    Cherbourg   yes  False  \n",
       "2  woman       False  NaN  Southampton   yes   True  \n",
       "3  woman       False    C  Southampton   yes  False  \n",
       "4    man        True  NaN  Southampton    no   True  "
      ]
     },
     "execution_count": 3,
     "metadata": {},
     "output_type": "execute_result"
    }
   ],
   "source": [
    "df.head()"
   ]
  },
  {
   "cell_type": "code",
   "execution_count": 4,
   "id": "5f280e4b-2b7d-44e7-9ab7-2a542c4a5f34",
   "metadata": {},
   "outputs": [],
   "source": [
    "from sklearn.preprocessing import OneHotEncoder"
   ]
  },
  {
   "cell_type": "code",
   "execution_count": 5,
   "id": "63b33691-1ff3-4099-adb8-0229d6b8acac",
   "metadata": {},
   "outputs": [],
   "source": [
    "one = OneHotEncoder()"
   ]
  },
  {
   "cell_type": "code",
   "execution_count": 7,
   "id": "12717035-a374-442b-abff-cd886ba31d51",
   "metadata": {},
   "outputs": [],
   "source": [
    "encoder = one.fit_transform(df[['who']])"
   ]
  },
  {
   "cell_type": "code",
   "execution_count": 10,
   "id": "ef6ac514-0ef6-418f-8ab2-41c6f4eb2f54",
   "metadata": {},
   "outputs": [
    {
     "data": {
      "text/plain": [
       "array([[0., 1., 0.],\n",
       "       [0., 0., 1.],\n",
       "       [0., 0., 1.],\n",
       "       ...,\n",
       "       [0., 0., 1.],\n",
       "       [0., 1., 0.],\n",
       "       [0., 1., 0.]])"
      ]
     },
     "execution_count": 10,
     "metadata": {},
     "output_type": "execute_result"
    }
   ],
   "source": [
    "encoder.toarray()"
   ]
  },
  {
   "cell_type": "code",
   "execution_count": 11,
   "id": "36795d71-4a07-4f62-aefa-f15d57a40a0f",
   "metadata": {},
   "outputs": [],
   "source": [
    "import pandas as pd"
   ]
  },
  {
   "cell_type": "code",
   "execution_count": 14,
   "id": "956563a6-56f4-4d79-84b5-e6ff0bf1d7fb",
   "metadata": {},
   "outputs": [],
   "source": [
    "encoded_df = pd.DataFrame(encoder.toarray() , columns=one.get_feature_names_out())"
   ]
  },
  {
   "cell_type": "code",
   "execution_count": 15,
   "id": "9352515f-a0f9-4351-b83d-cc2a620bd503",
   "metadata": {},
   "outputs": [
    {
     "data": {
      "text/html": [
       "<div>\n",
       "<style scoped>\n",
       "    .dataframe tbody tr th:only-of-type {\n",
       "        vertical-align: middle;\n",
       "    }\n",
       "\n",
       "    .dataframe tbody tr th {\n",
       "        vertical-align: top;\n",
       "    }\n",
       "\n",
       "    .dataframe thead th {\n",
       "        text-align: right;\n",
       "    }\n",
       "</style>\n",
       "<table border=\"1\" class=\"dataframe\">\n",
       "  <thead>\n",
       "    <tr style=\"text-align: right;\">\n",
       "      <th></th>\n",
       "      <th>who_child</th>\n",
       "      <th>who_man</th>\n",
       "      <th>who_woman</th>\n",
       "    </tr>\n",
       "  </thead>\n",
       "  <tbody>\n",
       "    <tr>\n",
       "      <th>0</th>\n",
       "      <td>0.0</td>\n",
       "      <td>1.0</td>\n",
       "      <td>0.0</td>\n",
       "    </tr>\n",
       "    <tr>\n",
       "      <th>1</th>\n",
       "      <td>0.0</td>\n",
       "      <td>0.0</td>\n",
       "      <td>1.0</td>\n",
       "    </tr>\n",
       "    <tr>\n",
       "      <th>2</th>\n",
       "      <td>0.0</td>\n",
       "      <td>0.0</td>\n",
       "      <td>1.0</td>\n",
       "    </tr>\n",
       "    <tr>\n",
       "      <th>3</th>\n",
       "      <td>0.0</td>\n",
       "      <td>0.0</td>\n",
       "      <td>1.0</td>\n",
       "    </tr>\n",
       "    <tr>\n",
       "      <th>4</th>\n",
       "      <td>0.0</td>\n",
       "      <td>1.0</td>\n",
       "      <td>0.0</td>\n",
       "    </tr>\n",
       "    <tr>\n",
       "      <th>...</th>\n",
       "      <td>...</td>\n",
       "      <td>...</td>\n",
       "      <td>...</td>\n",
       "    </tr>\n",
       "    <tr>\n",
       "      <th>886</th>\n",
       "      <td>0.0</td>\n",
       "      <td>1.0</td>\n",
       "      <td>0.0</td>\n",
       "    </tr>\n",
       "    <tr>\n",
       "      <th>887</th>\n",
       "      <td>0.0</td>\n",
       "      <td>0.0</td>\n",
       "      <td>1.0</td>\n",
       "    </tr>\n",
       "    <tr>\n",
       "      <th>888</th>\n",
       "      <td>0.0</td>\n",
       "      <td>0.0</td>\n",
       "      <td>1.0</td>\n",
       "    </tr>\n",
       "    <tr>\n",
       "      <th>889</th>\n",
       "      <td>0.0</td>\n",
       "      <td>1.0</td>\n",
       "      <td>0.0</td>\n",
       "    </tr>\n",
       "    <tr>\n",
       "      <th>890</th>\n",
       "      <td>0.0</td>\n",
       "      <td>1.0</td>\n",
       "      <td>0.0</td>\n",
       "    </tr>\n",
       "  </tbody>\n",
       "</table>\n",
       "<p>891 rows × 3 columns</p>\n",
       "</div>"
      ],
      "text/plain": [
       "     who_child  who_man  who_woman\n",
       "0          0.0      1.0        0.0\n",
       "1          0.0      0.0        1.0\n",
       "2          0.0      0.0        1.0\n",
       "3          0.0      0.0        1.0\n",
       "4          0.0      1.0        0.0\n",
       "..         ...      ...        ...\n",
       "886        0.0      1.0        0.0\n",
       "887        0.0      0.0        1.0\n",
       "888        0.0      0.0        1.0\n",
       "889        0.0      1.0        0.0\n",
       "890        0.0      1.0        0.0\n",
       "\n",
       "[891 rows x 3 columns]"
      ]
     },
     "execution_count": 15,
     "metadata": {},
     "output_type": "execute_result"
    }
   ],
   "source": [
    "encoded_df"
   ]
  },
  {
   "cell_type": "markdown",
   "id": "50d923f9-b137-44a3-9127-bf3202416411",
   "metadata": {},
   "source": [
    "Q3. In what situations is nominal encoding preferred over one-hot encoding? Provide a practical example."
   ]
  },
  {
   "cell_type": "markdown",
   "id": "5d96990f-ad53-458b-8262-416ce5aa25b7",
   "metadata": {},
   "source": [
    "In what situations is nominal encoding preferred over one-hot encoding --  when the catigorical data is given in very large ammount."
   ]
  },
  {
   "cell_type": "markdown",
   "id": "081532e4-44bf-4472-82b3-91cc19503953",
   "metadata": {},
   "source": [
    "- Provide a practical example"
   ]
  },
  {
   "cell_type": "markdown",
   "id": "4595a85a-49cc-469b-b6cb-2197c272bd45",
   "metadata": {},
   "source": [
    "- nominal encoding may be preferred over one-hot encoding is in the analysis of survey data where the respondent is asked to indicate their level of agreement or disagreement with a statement on a Likert scale. Suppose there are five response options ranging from \"Strongly Disagree\" to \"Strongly Agree.\" In this case, nominal encoding can assign values of 1 through 5 to each response option.\n",
    "\n",
    "- one-hot encoding would require creating five binary variables, each corresponding to one response option. Using nominal encoding can reduce the number of variables needed in the analysis, making it more manageable and efficient."
   ]
  },
  {
   "cell_type": "markdown",
   "id": "391138f1-6b42-40dd-ad35-8c53a46906ef",
   "metadata": {},
   "source": [
    "Q4. Suppose you have a dataset containing categorical data with 5 unique values. Which encoding\n",
    "technique would you use to transform this data into a format suitable for machine learning algorithms?\n",
    "Explain why you made this choice."
   ]
  },
  {
   "cell_type": "markdown",
   "id": "9da0bc00-f913-45aa-a153-a5c8a2e87672",
   "metadata": {},
   "source": [
    "One-hot encoding creates a binary variable for each unique category in the dataset, where the variable is set to 1 if the observation belongs to that category and 0 otherwise. In the case of five unique values, this would result in five binary variables, making the resulting dataset more manageable for machine learning algorithms to handle."
   ]
  },
  {
   "cell_type": "markdown",
   "id": "5399fa50-2383-4126-bd2d-0d7ce389edc1",
   "metadata": {},
   "source": [
    "Q5. In a machine learning project, you have a dataset with 1000 rows and 5 columns. Two of the columns\n",
    "are categorical, and the remaining three columns are numerical. If you were to use nominal encoding to\n",
    "transform the categorical data, how many new columns would be created? Show your calculations."
   ]
  },
  {
   "cell_type": "markdown",
   "id": "ce5328ca-80a0-4676-ac55-a858d296413e",
   "metadata": {},
   "source": [
    "Let's assume that the first categorical variable has 4 unique categories, and the second categorical variable has 6 unique categories. Therefore, we will create 4 new columns for the first categorical variable and 6 new columns for the second categorical variable.\n",
    "\n",
    "In total, we will create 4 + 6 = 10 new columns for the two categorical variables using nominal encoding.\n",
    "\n",
    "Thus, the resulting dataset will have 1000 rows and 10 columns (3 original numerical columns + 4 new columns for the first categorical variable + 6 new columns for the second categorical variable)."
   ]
  },
  {
   "cell_type": "markdown",
   "id": "05ed5622-f7a2-4909-a59f-d525e7ff919a",
   "metadata": {},
   "source": [
    "Q6. You are working with a dataset containing information about different types of animals, including their\n",
    "species, habitat, and diet. Which encoding technique would you use to transform the categorical data into\n",
    "a format suitable for machine learning algorithms? Justify your answer."
   ]
  },
  {
   "cell_type": "markdown",
   "id": "264a27a7-2451-4d0c-8a8a-d82ad666fd0d",
   "metadata": {},
   "source": [
    "In this scenario, nominal encoding can assign a unique numerical value to each species, habitat, and diet category, which can then be used as inputs to a machine learning algorithm. However, it is worth noting that nominal encoding is not always the best choice for categorical data, and other encoding techniques such as ordinal encoding or one-hot encoding may be more appropriate depending on the characteristics of the data and the requirements of the machine learning algorithm being used."
   ]
  },
  {
   "cell_type": "markdown",
   "id": "df8dc4d4-7a52-423c-8ca8-af253c68eb04",
   "metadata": {},
   "source": [
    "Q7.You are working on a project that involves predicting customer churn for a telecommunications\n",
    "company. You have a dataset with 5 features, including the customer's gender, age, contract type,\n",
    "monthly charges, and tenure. Which encoding technique(s) would you use to transform the categorical\n",
    "data into numerical data? Provide a step-by-step explanation of how you would implement the encoding."
   ]
  },
  {
   "cell_type": "code",
   "execution_count": 4,
   "id": "b2fbeadc-28a6-410f-b506-3ea6bcce2730",
   "metadata": {},
   "outputs": [],
   "source": [
    "import pandas as pd"
   ]
  },
  {
   "cell_type": "code",
   "execution_count": 5,
   "id": "92bb27bc-79f5-4804-9217-51fc447a0a8e",
   "metadata": {},
   "outputs": [],
   "source": [
    "df = pd.DataFrame({\n",
    "    \n",
    "    'gender' : ['male' , 'female' , 'male' , 'female' , 'male' , 'female' ] ,\n",
    "    'age' : [55,44,66,88,75,41] ,\n",
    "    'contract_type' : ['Month-to-month' , 'One-year contract' , 'Prepaid contract' , 'Month-to-month' , 'One-year contract' , 'Prepaid contract'] ,\n",
    "    'monthly_charges' : [200,633,568,452,575,652],\n",
    "    'tenure' : ['1_month' ,  '6_months' , '1_year' , '1_month' ,  '6_months' , '1_year']\n",
    "\n",
    "})"
   ]
  },
  {
   "cell_type": "code",
   "execution_count": 6,
   "id": "725efdb1-9574-4bf2-8635-63cbc64426ed",
   "metadata": {},
   "outputs": [
    {
     "data": {
      "text/html": [
       "<div>\n",
       "<style scoped>\n",
       "    .dataframe tbody tr th:only-of-type {\n",
       "        vertical-align: middle;\n",
       "    }\n",
       "\n",
       "    .dataframe tbody tr th {\n",
       "        vertical-align: top;\n",
       "    }\n",
       "\n",
       "    .dataframe thead th {\n",
       "        text-align: right;\n",
       "    }\n",
       "</style>\n",
       "<table border=\"1\" class=\"dataframe\">\n",
       "  <thead>\n",
       "    <tr style=\"text-align: right;\">\n",
       "      <th></th>\n",
       "      <th>gender</th>\n",
       "      <th>age</th>\n",
       "      <th>contract_type</th>\n",
       "      <th>monthly_charges</th>\n",
       "      <th>tenure</th>\n",
       "    </tr>\n",
       "  </thead>\n",
       "  <tbody>\n",
       "    <tr>\n",
       "      <th>0</th>\n",
       "      <td>male</td>\n",
       "      <td>55</td>\n",
       "      <td>Month-to-month</td>\n",
       "      <td>200</td>\n",
       "      <td>1_month</td>\n",
       "    </tr>\n",
       "    <tr>\n",
       "      <th>1</th>\n",
       "      <td>female</td>\n",
       "      <td>44</td>\n",
       "      <td>One-year contract</td>\n",
       "      <td>633</td>\n",
       "      <td>6_months</td>\n",
       "    </tr>\n",
       "    <tr>\n",
       "      <th>2</th>\n",
       "      <td>male</td>\n",
       "      <td>66</td>\n",
       "      <td>Prepaid contract</td>\n",
       "      <td>568</td>\n",
       "      <td>1_year</td>\n",
       "    </tr>\n",
       "    <tr>\n",
       "      <th>3</th>\n",
       "      <td>female</td>\n",
       "      <td>88</td>\n",
       "      <td>Month-to-month</td>\n",
       "      <td>452</td>\n",
       "      <td>1_month</td>\n",
       "    </tr>\n",
       "    <tr>\n",
       "      <th>4</th>\n",
       "      <td>male</td>\n",
       "      <td>75</td>\n",
       "      <td>One-year contract</td>\n",
       "      <td>575</td>\n",
       "      <td>6_months</td>\n",
       "    </tr>\n",
       "    <tr>\n",
       "      <th>5</th>\n",
       "      <td>female</td>\n",
       "      <td>41</td>\n",
       "      <td>Prepaid contract</td>\n",
       "      <td>652</td>\n",
       "      <td>1_year</td>\n",
       "    </tr>\n",
       "  </tbody>\n",
       "</table>\n",
       "</div>"
      ],
      "text/plain": [
       "   gender  age      contract_type  monthly_charges    tenure\n",
       "0    male   55     Month-to-month              200   1_month\n",
       "1  female   44  One-year contract              633  6_months\n",
       "2    male   66   Prepaid contract              568    1_year\n",
       "3  female   88     Month-to-month              452   1_month\n",
       "4    male   75  One-year contract              575  6_months\n",
       "5  female   41   Prepaid contract              652    1_year"
      ]
     },
     "execution_count": 6,
     "metadata": {},
     "output_type": "execute_result"
    }
   ],
   "source": [
    "df"
   ]
  },
  {
   "cell_type": "code",
   "execution_count": 7,
   "id": "f83fd4b3-18e7-49f5-a982-e373824f0e53",
   "metadata": {},
   "outputs": [],
   "source": [
    "from sklearn.preprocessing import OneHotEncoder"
   ]
  },
  {
   "cell_type": "code",
   "execution_count": 8,
   "id": "23b25641-d4b5-44b3-98cc-0cc12afff5de",
   "metadata": {},
   "outputs": [],
   "source": [
    "o = OneHotEncoder()"
   ]
  },
  {
   "cell_type": "code",
   "execution_count": 9,
   "id": "85e4ffbc-1d19-43ca-89ad-5e73ab110aa2",
   "metadata": {},
   "outputs": [],
   "source": [
    "encoder = o.fit_transform(df[['gender' , 'contract_type' , 'tenure']])"
   ]
  },
  {
   "cell_type": "code",
   "execution_count": 11,
   "id": "51c5f150-d601-43fc-a63a-898c8526db59",
   "metadata": {},
   "outputs": [],
   "source": [
    "encoder_df = pd.DataFrame(encoder.toarray() , columns= o.get_feature_names_out())"
   ]
  },
  {
   "cell_type": "code",
   "execution_count": 12,
   "id": "f24e8347-66a1-4f49-ac36-fc3a46047258",
   "metadata": {},
   "outputs": [
    {
     "data": {
      "text/html": [
       "<div>\n",
       "<style scoped>\n",
       "    .dataframe tbody tr th:only-of-type {\n",
       "        vertical-align: middle;\n",
       "    }\n",
       "\n",
       "    .dataframe tbody tr th {\n",
       "        vertical-align: top;\n",
       "    }\n",
       "\n",
       "    .dataframe thead th {\n",
       "        text-align: right;\n",
       "    }\n",
       "</style>\n",
       "<table border=\"1\" class=\"dataframe\">\n",
       "  <thead>\n",
       "    <tr style=\"text-align: right;\">\n",
       "      <th></th>\n",
       "      <th>gender_female</th>\n",
       "      <th>gender_male</th>\n",
       "      <th>contract_type_Month-to-month</th>\n",
       "      <th>contract_type_One-year contract</th>\n",
       "      <th>contract_type_Prepaid contract</th>\n",
       "      <th>tenure_1_month</th>\n",
       "      <th>tenure_1_year</th>\n",
       "      <th>tenure_6_months</th>\n",
       "    </tr>\n",
       "  </thead>\n",
       "  <tbody>\n",
       "    <tr>\n",
       "      <th>0</th>\n",
       "      <td>0.0</td>\n",
       "      <td>1.0</td>\n",
       "      <td>1.0</td>\n",
       "      <td>0.0</td>\n",
       "      <td>0.0</td>\n",
       "      <td>1.0</td>\n",
       "      <td>0.0</td>\n",
       "      <td>0.0</td>\n",
       "    </tr>\n",
       "    <tr>\n",
       "      <th>1</th>\n",
       "      <td>1.0</td>\n",
       "      <td>0.0</td>\n",
       "      <td>0.0</td>\n",
       "      <td>1.0</td>\n",
       "      <td>0.0</td>\n",
       "      <td>0.0</td>\n",
       "      <td>0.0</td>\n",
       "      <td>1.0</td>\n",
       "    </tr>\n",
       "    <tr>\n",
       "      <th>2</th>\n",
       "      <td>0.0</td>\n",
       "      <td>1.0</td>\n",
       "      <td>0.0</td>\n",
       "      <td>0.0</td>\n",
       "      <td>1.0</td>\n",
       "      <td>0.0</td>\n",
       "      <td>1.0</td>\n",
       "      <td>0.0</td>\n",
       "    </tr>\n",
       "    <tr>\n",
       "      <th>3</th>\n",
       "      <td>1.0</td>\n",
       "      <td>0.0</td>\n",
       "      <td>1.0</td>\n",
       "      <td>0.0</td>\n",
       "      <td>0.0</td>\n",
       "      <td>1.0</td>\n",
       "      <td>0.0</td>\n",
       "      <td>0.0</td>\n",
       "    </tr>\n",
       "    <tr>\n",
       "      <th>4</th>\n",
       "      <td>0.0</td>\n",
       "      <td>1.0</td>\n",
       "      <td>0.0</td>\n",
       "      <td>1.0</td>\n",
       "      <td>0.0</td>\n",
       "      <td>0.0</td>\n",
       "      <td>0.0</td>\n",
       "      <td>1.0</td>\n",
       "    </tr>\n",
       "    <tr>\n",
       "      <th>5</th>\n",
       "      <td>1.0</td>\n",
       "      <td>0.0</td>\n",
       "      <td>0.0</td>\n",
       "      <td>0.0</td>\n",
       "      <td>1.0</td>\n",
       "      <td>0.0</td>\n",
       "      <td>1.0</td>\n",
       "      <td>0.0</td>\n",
       "    </tr>\n",
       "  </tbody>\n",
       "</table>\n",
       "</div>"
      ],
      "text/plain": [
       "   gender_female  gender_male  contract_type_Month-to-month  \\\n",
       "0            0.0          1.0                           1.0   \n",
       "1            1.0          0.0                           0.0   \n",
       "2            0.0          1.0                           0.0   \n",
       "3            1.0          0.0                           1.0   \n",
       "4            0.0          1.0                           0.0   \n",
       "5            1.0          0.0                           0.0   \n",
       "\n",
       "   contract_type_One-year contract  contract_type_Prepaid contract  \\\n",
       "0                              0.0                             0.0   \n",
       "1                              1.0                             0.0   \n",
       "2                              0.0                             1.0   \n",
       "3                              0.0                             0.0   \n",
       "4                              1.0                             0.0   \n",
       "5                              0.0                             1.0   \n",
       "\n",
       "   tenure_1_month  tenure_1_year  tenure_6_months  \n",
       "0             1.0            0.0              0.0  \n",
       "1             0.0            0.0              1.0  \n",
       "2             0.0            1.0              0.0  \n",
       "3             1.0            0.0              0.0  \n",
       "4             0.0            0.0              1.0  \n",
       "5             0.0            1.0              0.0  "
      ]
     },
     "execution_count": 12,
     "metadata": {},
     "output_type": "execute_result"
    }
   ],
   "source": [
    "encoder_df"
   ]
  }
 ],
 "metadata": {
  "kernelspec": {
   "display_name": "Python 3 (ipykernel)",
   "language": "python",
   "name": "python3"
  },
  "language_info": {
   "codemirror_mode": {
    "name": "ipython",
    "version": 3
   },
   "file_extension": ".py",
   "mimetype": "text/x-python",
   "name": "python",
   "nbconvert_exporter": "python",
   "pygments_lexer": "ipython3",
   "version": "3.10.8"
  }
 },
 "nbformat": 4,
 "nbformat_minor": 5
}
